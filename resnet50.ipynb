{
  "nbformat": 4,
  "nbformat_minor": 0,
  "metadata": {
    "colab": {
      "provenance": []
    },
    "kernelspec": {
      "name": "python3",
      "display_name": "Python 3"
    },
    "language_info": {
      "name": "python"
    },
    "accelerator": "GPU",
    "gpuClass": "standard",
    "widgets": {
      "application/vnd.jupyter.widget-state+json": {
        "a5a57a29deda4deb95d51618647f049a": {
          "model_module": "@jupyter-widgets/controls",
          "model_name": "HBoxModel",
          "model_module_version": "1.5.0",
          "state": {
            "_dom_classes": [],
            "_model_module": "@jupyter-widgets/controls",
            "_model_module_version": "1.5.0",
            "_model_name": "HBoxModel",
            "_view_count": null,
            "_view_module": "@jupyter-widgets/controls",
            "_view_module_version": "1.5.0",
            "_view_name": "HBoxView",
            "box_style": "",
            "children": [
              "IPY_MODEL_66b2b1c95d254c2da2138b63a3dbada4",
              "IPY_MODEL_4cde5892b88d4de4b45bcd4186fa2656",
              "IPY_MODEL_c53f5410cbfe4dcbac76e1f9abc9ca29"
            ],
            "layout": "IPY_MODEL_d44d31452638453fb8437d939bacdd2f"
          }
        },
        "66b2b1c95d254c2da2138b63a3dbada4": {
          "model_module": "@jupyter-widgets/controls",
          "model_name": "HTMLModel",
          "model_module_version": "1.5.0",
          "state": {
            "_dom_classes": [],
            "_model_module": "@jupyter-widgets/controls",
            "_model_module_version": "1.5.0",
            "_model_name": "HTMLModel",
            "_view_count": null,
            "_view_module": "@jupyter-widgets/controls",
            "_view_module_version": "1.5.0",
            "_view_name": "HTMLView",
            "description": "",
            "description_tooltip": null,
            "layout": "IPY_MODEL_d891acf165bd4c4193c0174cc3281a71",
            "placeholder": "​",
            "style": "IPY_MODEL_0684610d4f744e35a7a3aa67f752d45e",
            "value": "100%"
          }
        },
        "4cde5892b88d4de4b45bcd4186fa2656": {
          "model_module": "@jupyter-widgets/controls",
          "model_name": "FloatProgressModel",
          "model_module_version": "1.5.0",
          "state": {
            "_dom_classes": [],
            "_model_module": "@jupyter-widgets/controls",
            "_model_module_version": "1.5.0",
            "_model_name": "FloatProgressModel",
            "_view_count": null,
            "_view_module": "@jupyter-widgets/controls",
            "_view_module_version": "1.5.0",
            "_view_name": "ProgressView",
            "bar_style": "success",
            "description": "",
            "description_tooltip": null,
            "layout": "IPY_MODEL_8e0bd000407a4b6bb02798ad870e2ab2",
            "max": 102530333,
            "min": 0,
            "orientation": "horizontal",
            "style": "IPY_MODEL_047e748aacb24fbea6a10200ae9f456e",
            "value": 102530333
          }
        },
        "c53f5410cbfe4dcbac76e1f9abc9ca29": {
          "model_module": "@jupyter-widgets/controls",
          "model_name": "HTMLModel",
          "model_module_version": "1.5.0",
          "state": {
            "_dom_classes": [],
            "_model_module": "@jupyter-widgets/controls",
            "_model_module_version": "1.5.0",
            "_model_name": "HTMLModel",
            "_view_count": null,
            "_view_module": "@jupyter-widgets/controls",
            "_view_module_version": "1.5.0",
            "_view_name": "HTMLView",
            "description": "",
            "description_tooltip": null,
            "layout": "IPY_MODEL_07a9a4e8fbf64129b45ddf97cca08b85",
            "placeholder": "​",
            "style": "IPY_MODEL_fa2b3e006dfd4491a48dceccb510fa65",
            "value": " 97.8M/97.8M [00:01&lt;00:00, 94.3MB/s]"
          }
        },
        "d44d31452638453fb8437d939bacdd2f": {
          "model_module": "@jupyter-widgets/base",
          "model_name": "LayoutModel",
          "model_module_version": "1.2.0",
          "state": {
            "_model_module": "@jupyter-widgets/base",
            "_model_module_version": "1.2.0",
            "_model_name": "LayoutModel",
            "_view_count": null,
            "_view_module": "@jupyter-widgets/base",
            "_view_module_version": "1.2.0",
            "_view_name": "LayoutView",
            "align_content": null,
            "align_items": null,
            "align_self": null,
            "border": null,
            "bottom": null,
            "display": null,
            "flex": null,
            "flex_flow": null,
            "grid_area": null,
            "grid_auto_columns": null,
            "grid_auto_flow": null,
            "grid_auto_rows": null,
            "grid_column": null,
            "grid_gap": null,
            "grid_row": null,
            "grid_template_areas": null,
            "grid_template_columns": null,
            "grid_template_rows": null,
            "height": null,
            "justify_content": null,
            "justify_items": null,
            "left": null,
            "margin": null,
            "max_height": null,
            "max_width": null,
            "min_height": null,
            "min_width": null,
            "object_fit": null,
            "object_position": null,
            "order": null,
            "overflow": null,
            "overflow_x": null,
            "overflow_y": null,
            "padding": null,
            "right": null,
            "top": null,
            "visibility": null,
            "width": null
          }
        },
        "d891acf165bd4c4193c0174cc3281a71": {
          "model_module": "@jupyter-widgets/base",
          "model_name": "LayoutModel",
          "model_module_version": "1.2.0",
          "state": {
            "_model_module": "@jupyter-widgets/base",
            "_model_module_version": "1.2.0",
            "_model_name": "LayoutModel",
            "_view_count": null,
            "_view_module": "@jupyter-widgets/base",
            "_view_module_version": "1.2.0",
            "_view_name": "LayoutView",
            "align_content": null,
            "align_items": null,
            "align_self": null,
            "border": null,
            "bottom": null,
            "display": null,
            "flex": null,
            "flex_flow": null,
            "grid_area": null,
            "grid_auto_columns": null,
            "grid_auto_flow": null,
            "grid_auto_rows": null,
            "grid_column": null,
            "grid_gap": null,
            "grid_row": null,
            "grid_template_areas": null,
            "grid_template_columns": null,
            "grid_template_rows": null,
            "height": null,
            "justify_content": null,
            "justify_items": null,
            "left": null,
            "margin": null,
            "max_height": null,
            "max_width": null,
            "min_height": null,
            "min_width": null,
            "object_fit": null,
            "object_position": null,
            "order": null,
            "overflow": null,
            "overflow_x": null,
            "overflow_y": null,
            "padding": null,
            "right": null,
            "top": null,
            "visibility": null,
            "width": null
          }
        },
        "0684610d4f744e35a7a3aa67f752d45e": {
          "model_module": "@jupyter-widgets/controls",
          "model_name": "DescriptionStyleModel",
          "model_module_version": "1.5.0",
          "state": {
            "_model_module": "@jupyter-widgets/controls",
            "_model_module_version": "1.5.0",
            "_model_name": "DescriptionStyleModel",
            "_view_count": null,
            "_view_module": "@jupyter-widgets/base",
            "_view_module_version": "1.2.0",
            "_view_name": "StyleView",
            "description_width": ""
          }
        },
        "8e0bd000407a4b6bb02798ad870e2ab2": {
          "model_module": "@jupyter-widgets/base",
          "model_name": "LayoutModel",
          "model_module_version": "1.2.0",
          "state": {
            "_model_module": "@jupyter-widgets/base",
            "_model_module_version": "1.2.0",
            "_model_name": "LayoutModel",
            "_view_count": null,
            "_view_module": "@jupyter-widgets/base",
            "_view_module_version": "1.2.0",
            "_view_name": "LayoutView",
            "align_content": null,
            "align_items": null,
            "align_self": null,
            "border": null,
            "bottom": null,
            "display": null,
            "flex": null,
            "flex_flow": null,
            "grid_area": null,
            "grid_auto_columns": null,
            "grid_auto_flow": null,
            "grid_auto_rows": null,
            "grid_column": null,
            "grid_gap": null,
            "grid_row": null,
            "grid_template_areas": null,
            "grid_template_columns": null,
            "grid_template_rows": null,
            "height": null,
            "justify_content": null,
            "justify_items": null,
            "left": null,
            "margin": null,
            "max_height": null,
            "max_width": null,
            "min_height": null,
            "min_width": null,
            "object_fit": null,
            "object_position": null,
            "order": null,
            "overflow": null,
            "overflow_x": null,
            "overflow_y": null,
            "padding": null,
            "right": null,
            "top": null,
            "visibility": null,
            "width": null
          }
        },
        "047e748aacb24fbea6a10200ae9f456e": {
          "model_module": "@jupyter-widgets/controls",
          "model_name": "ProgressStyleModel",
          "model_module_version": "1.5.0",
          "state": {
            "_model_module": "@jupyter-widgets/controls",
            "_model_module_version": "1.5.0",
            "_model_name": "ProgressStyleModel",
            "_view_count": null,
            "_view_module": "@jupyter-widgets/base",
            "_view_module_version": "1.2.0",
            "_view_name": "StyleView",
            "bar_color": null,
            "description_width": ""
          }
        },
        "07a9a4e8fbf64129b45ddf97cca08b85": {
          "model_module": "@jupyter-widgets/base",
          "model_name": "LayoutModel",
          "model_module_version": "1.2.0",
          "state": {
            "_model_module": "@jupyter-widgets/base",
            "_model_module_version": "1.2.0",
            "_model_name": "LayoutModel",
            "_view_count": null,
            "_view_module": "@jupyter-widgets/base",
            "_view_module_version": "1.2.0",
            "_view_name": "LayoutView",
            "align_content": null,
            "align_items": null,
            "align_self": null,
            "border": null,
            "bottom": null,
            "display": null,
            "flex": null,
            "flex_flow": null,
            "grid_area": null,
            "grid_auto_columns": null,
            "grid_auto_flow": null,
            "grid_auto_rows": null,
            "grid_column": null,
            "grid_gap": null,
            "grid_row": null,
            "grid_template_areas": null,
            "grid_template_columns": null,
            "grid_template_rows": null,
            "height": null,
            "justify_content": null,
            "justify_items": null,
            "left": null,
            "margin": null,
            "max_height": null,
            "max_width": null,
            "min_height": null,
            "min_width": null,
            "object_fit": null,
            "object_position": null,
            "order": null,
            "overflow": null,
            "overflow_x": null,
            "overflow_y": null,
            "padding": null,
            "right": null,
            "top": null,
            "visibility": null,
            "width": null
          }
        },
        "fa2b3e006dfd4491a48dceccb510fa65": {
          "model_module": "@jupyter-widgets/controls",
          "model_name": "DescriptionStyleModel",
          "model_module_version": "1.5.0",
          "state": {
            "_model_module": "@jupyter-widgets/controls",
            "_model_module_version": "1.5.0",
            "_model_name": "DescriptionStyleModel",
            "_view_count": null,
            "_view_module": "@jupyter-widgets/base",
            "_view_module_version": "1.2.0",
            "_view_name": "StyleView",
            "description_width": ""
          }
        }
      }
    }
  },
  "cells": [
    {
      "cell_type": "code",
      "execution_count": null,
      "metadata": {
        "colab": {
          "base_uri": "https://localhost:8080/"
        },
        "id": "wRbq2h5cJhPt",
        "outputId": "f1590d5a-6075-4fa3-d9de-491193216f52"
      },
      "outputs": [
        {
          "output_type": "stream",
          "name": "stdout",
          "text": [
            "Looking in indexes: https://pypi.org/simple, https://us-python.pkg.dev/colab-wheels/public/simple/\n",
            "Collecting split-folders\n",
            "  Downloading split_folders-0.5.1-py3-none-any.whl (8.4 kB)\n",
            "Installing collected packages: split-folders\n",
            "Successfully installed split-folders-0.5.1\n"
          ]
        }
      ],
      "source": [
        "from __future__ import print_function, division\n",
        "!pip install split-folders\n",
        "\n",
        "\n",
        "import torch\n",
        "import torch.nn as nn\n",
        "import torch.optim as optim\n",
        "from torch.optim import lr_scheduler\n",
        "import torch.backends.cudnn as cudnn\n",
        "import numpy as np\n",
        "import torchvision\n",
        "from torchvision import datasets, models, transforms\n",
        "import matplotlib.pyplot as plt\n",
        "import time\n",
        "import os\n",
        "import copy"
      ]
    },
    {
      "cell_type": "code",
      "source": [
        "from google.colab import drive\n",
        "drive.mount('/content/drive')\n",
        "import splitfolders\n",
        "splitfolders.ratio(\"/content/drive/MyDrive/project/Scenes training set\",output = \"Data\",ratio = (0.8,0.2))"
      ],
      "metadata": {
        "colab": {
          "base_uri": "https://localhost:8080/"
        },
        "id": "aZ5oP89lJk5v",
        "outputId": "7fec6842-4566-420a-d5d9-33c34f8779f2"
      },
      "execution_count": null,
      "outputs": [
        {
          "output_type": "stream",
          "name": "stdout",
          "text": [
            "Drive already mounted at /content/drive; to attempt to forcibly remount, call drive.mount(\"/content/drive\", force_remount=True).\n"
          ]
        },
        {
          "output_type": "stream",
          "name": "stderr",
          "text": [
            "Copying files: 14034 files [03:47, 61.68 files/s] \n"
          ]
        }
      ]
    },
    {
      "cell_type": "code",
      "source": [
        "!rmdir Data/train/.ipynb_checkpoints\n",
        "!rmdir Data/val/.ipynb_checkpoints"
      ],
      "metadata": {
        "colab": {
          "base_uri": "https://localhost:8080/"
        },
        "id": "UpRGnSu1JuIJ",
        "outputId": "c937f795-08eb-41ad-bd78-2340860b2879"
      },
      "execution_count": null,
      "outputs": [
        {
          "output_type": "stream",
          "name": "stdout",
          "text": [
            "rmdir: failed to remove 'Data/train/.ipynb_checkpoints': No such file or directory\n",
            "rmdir: failed to remove 'Data/val/.ipynb_checkpoints': No such file or directory\n"
          ]
        }
      ]
    },
    {
      "cell_type": "code",
      "source": [
        "data_transforms = {\n",
        "    'train': transforms.Compose([\n",
        "        transforms.RandomResizedCrop(224),\n",
        "        transforms.RandomHorizontalFlip(),\n",
        "        transforms.ToTensor(),\n",
        "    ]),\n",
        "    'val': transforms.Compose([\n",
        "        transforms.Resize(256),\n",
        "        transforms.CenterCrop(224),\n",
        "        transforms.ToTensor(),\n",
        "    ]),\n",
        "}\n",
        "dir = \"Data\"\n",
        "image_datasets = {x: datasets.ImageFolder(os.path.join(dir, x),\n",
        "                                          data_transforms[x])\n",
        "                  for x in ['train', 'val']}\n",
        "dataloaders = {x: torch.utils.data.DataLoader(image_datasets[x], batch_size=4,\n",
        "                                             shuffle=True, num_workers=2)\n",
        "              for x in ['train', 'val']}\n",
        "dataset_sizes = {x: len(image_datasets[x]) for x in ['train', 'val']}\n",
        "class_names = image_datasets['train'].classes"
      ],
      "metadata": {
        "id": "BLdoisI7Jx9m"
      },
      "execution_count": null,
      "outputs": []
    },
    {
      "cell_type": "code",
      "source": [
        "device = torch.device(\"cuda:0\" if torch.cuda.is_available() else \"cpu\")\n",
        "def imshow(inp, title=None):\n",
        "    \"\"\"Imshow for Tensor.\"\"\"\n",
        "    inp = inp.numpy().transpose((1, 2, 0))\n",
        "    #mean = np.array([0.485, 0.456, 0.406])\n",
        "    #std = np.array([0.229, 0.224, 0.225])\n",
        "    #inp = std * inp + mean\n",
        "    inp = np.clip(inp, 0, 1)\n",
        "    plt.imshow(inp)\n",
        "    if title is not None:\n",
        "        plt.title(title)\n",
        "    plt.pause(0.001)"
      ],
      "metadata": {
        "id": "WmR-FNaXJ1bC"
      },
      "execution_count": null,
      "outputs": []
    },
    {
      "cell_type": "code",
      "source": [
        "def train_model(model, criterion, optimizer, scheduler, num_epochs=25):\n",
        "    since = time.time()\n",
        "\n",
        "    best_model_wts = copy.deepcopy(model.state_dict())\n",
        "    best_acc = 0.0\n",
        "\n",
        "    for epoch in range(num_epochs):\n",
        "        print(f'Epoch {epoch}/{num_epochs - 1}')\n",
        "        print('-' * 10)\n",
        "\n",
        "        # Each epoch has a training and validation phase\n",
        "        for phase in ['train','val']:\n",
        "            if phase == 'train':\n",
        "                model.train()  # Set model to training mode\n",
        "            else:\n",
        "                model.eval()   # Set model to evaluate mode\n",
        "\n",
        "            running_loss = 0.0\n",
        "            running_corrects = 0\n",
        "\n",
        "            # Iterate over data.\n",
        "            for inputs, labels in dataloaders[phase]:\n",
        "                inputs = inputs.to(device)\n",
        "                labels = labels.to(device)\n",
        "\n",
        "                # zero the parameter gradients\n",
        "                optimizer.zero_grad()\n",
        "\n",
        "                # forward\n",
        "                # track history if only in train\n",
        "                with torch.set_grad_enabled(phase == 'train'):\n",
        "                    outputs = model(inputs)\n",
        "                    _, preds = torch.max(outputs, 1)\n",
        "                    loss = criterion(outputs, labels)\n",
        "\n",
        "                    # backward + optimize only if in training phase\n",
        "                    if phase == 'train':\n",
        "                        loss.backward()\n",
        "                        optimizer.step()\n",
        "\n",
        "                # statistics\n",
        "                running_loss += loss.item() * inputs.size(0)\n",
        "                running_corrects += torch.sum(preds == labels.data)\n",
        "            if phase == 'train':\n",
        "                scheduler.step()\n",
        "\n",
        "            epoch_loss = running_loss / dataset_sizes[phase]\n",
        "            epoch_acc = running_corrects.double() / dataset_sizes[phase]\n",
        "\n",
        "            print(f'{phase} Loss: {epoch_loss:.4f} Acc: {epoch_acc:.4f}')\n",
        "\n",
        "            # deep copy the model\n",
        "            if phase == 'val' and epoch_acc > best_acc:\n",
        "                best_acc = epoch_acc\n",
        "                best_model_wts = copy.deepcopy(model.state_dict())\n",
        "\n",
        "        print()\n",
        "\n",
        "    time_elapsed = time.time() - since\n",
        "    print(f'Training complete in {time_elapsed // 60:.0f}m {time_elapsed % 60:.0f}s')\n",
        "    print(f'Best val Acc: {best_acc:4f}')\n",
        "\n",
        "    # load best model weights\n",
        "    model.load_state_dict(best_model_wts)\n",
        "    return model\n",
        "\n",
        "def visualize_model(model, num_images=6):\n",
        "    was_training = model.training\n",
        "    model.eval()\n",
        "    images_so_far = 0\n",
        "    fig = plt.figure()\n",
        "\n",
        "    with torch.no_grad():\n",
        "        for i, (inputs, labels) in enumerate(dataloaders['val']):\n",
        "            inputs = inputs.to(device)\n",
        "            labels = labels.to(device)\n",
        "\n",
        "            outputs = model(inputs)\n",
        "            _, preds = torch.max(outputs, 1)\n",
        "\n",
        "            for j in range(inputs.size()[0]):\n",
        "                images_so_far += 1\n",
        "                ax = plt.subplot(num_images//2, 2, images_so_far)\n",
        "                ax.axis('off')\n",
        "                ax.set_title(f'predicted: {class_names[preds[j]]}')\n",
        "                imshow(inputs.cpu().data[j])\n",
        "\n",
        "                if images_so_far == num_images:\n",
        "                    model.train(mode=was_training)\n",
        "                    return\n",
        "        model.train(mode=was_training)"
      ],
      "metadata": {
        "id": "_2gMCltOKB_j"
      },
      "execution_count": null,
      "outputs": []
    },
    {
      "cell_type": "code",
      "source": [
        "model_ft = models.resnet50(pretrained=True)\n",
        "num_ftrs = model_ft.fc.in_features\n",
        "# Here the size of each output sample is set to 2.\n",
        "# Alternatively, it can be generalized to nn.Linear(num_ftrs, len(class_names)).\n",
        "model_ft.fc = nn.Linear(num_ftrs, 6)\n",
        "\n",
        "model_ft = model_ft.to(device)\n",
        "\n",
        "criterion = nn.CrossEntropyLoss()\n",
        "\n",
        "# Observe that all parameters are being optimized\n",
        "optimizer_ft = optim.SGD(model_ft.parameters(), lr=0.001, momentum=0.9)\n",
        "\n",
        "exp_lr_scheduler = lr_scheduler.StepLR(optimizer_ft, step_size=7, gamma=0.1)\n",
        "model_ft = train_model(model_ft, criterion, optimizer_ft, exp_lr_scheduler,\n",
        "                       num_epochs=25)\n",
        "visualize_model(model_ft)\n",
        "\n"
      ],
      "metadata": {
        "colab": {
          "base_uri": "https://localhost:8080/",
          "height": 1000,
          "referenced_widgets": [
            "a5a57a29deda4deb95d51618647f049a",
            "66b2b1c95d254c2da2138b63a3dbada4",
            "4cde5892b88d4de4b45bcd4186fa2656",
            "c53f5410cbfe4dcbac76e1f9abc9ca29",
            "d44d31452638453fb8437d939bacdd2f",
            "d891acf165bd4c4193c0174cc3281a71",
            "0684610d4f744e35a7a3aa67f752d45e",
            "8e0bd000407a4b6bb02798ad870e2ab2",
            "047e748aacb24fbea6a10200ae9f456e",
            "07a9a4e8fbf64129b45ddf97cca08b85",
            "fa2b3e006dfd4491a48dceccb510fa65"
          ]
        },
        "id": "-yGfjhaEKLRj",
        "outputId": "5079e9d1-9b6c-4da0-a531-4c577919d29f"
      },
      "execution_count": null,
      "outputs": [
        {
          "output_type": "stream",
          "name": "stderr",
          "text": [
            "/usr/local/lib/python3.7/dist-packages/torchvision/models/_utils.py:209: UserWarning: The parameter 'pretrained' is deprecated since 0.13 and will be removed in 0.15, please use 'weights' instead.\n",
            "  f\"The parameter '{pretrained_param}' is deprecated since 0.13 and will be removed in 0.15, \"\n",
            "/usr/local/lib/python3.7/dist-packages/torchvision/models/_utils.py:223: UserWarning: Arguments other than a weight enum or `None` for 'weights' are deprecated since 0.13 and will be removed in 0.15. The current behavior is equivalent to passing `weights=ResNet50_Weights.IMAGENET1K_V1`. You can also use `weights=ResNet50_Weights.DEFAULT` to get the most up-to-date weights.\n",
            "  warnings.warn(msg)\n",
            "Downloading: \"https://download.pytorch.org/models/resnet50-0676ba61.pth\" to /root/.cache/torch/hub/checkpoints/resnet50-0676ba61.pth\n"
          ]
        },
        {
          "output_type": "display_data",
          "data": {
            "text/plain": [
              "  0%|          | 0.00/97.8M [00:00<?, ?B/s]"
            ],
            "application/vnd.jupyter.widget-view+json": {
              "version_major": 2,
              "version_minor": 0,
              "model_id": "a5a57a29deda4deb95d51618647f049a"
            }
          },
          "metadata": {}
        },
        {
          "output_type": "stream",
          "name": "stdout",
          "text": [
            "Epoch 0/24\n",
            "----------\n",
            "train Loss: 0.8384 Acc: 0.7007\n",
            "val Loss: 0.3136 Acc: 0.8993\n",
            "\n",
            "Epoch 1/24\n",
            "----------\n",
            "train Loss: 0.5683 Acc: 0.7911\n",
            "val Loss: 0.3174 Acc: 0.8950\n",
            "\n",
            "Epoch 2/24\n",
            "----------\n",
            "train Loss: 0.4904 Acc: 0.8236\n",
            "val Loss: 0.3373 Acc: 0.8854\n",
            "\n",
            "Epoch 3/24\n",
            "----------\n",
            "train Loss: 0.4512 Acc: 0.8371\n",
            "val Loss: 0.2958 Acc: 0.9085\n",
            "\n",
            "Epoch 4/24\n",
            "----------\n",
            "train Loss: 0.4165 Acc: 0.8454\n",
            "val Loss: 0.2799 Acc: 0.9135\n",
            "\n",
            "Epoch 5/24\n",
            "----------\n",
            "train Loss: 0.3938 Acc: 0.8590\n",
            "val Loss: 0.3182 Acc: 0.8907\n",
            "\n",
            "Epoch 6/24\n",
            "----------\n",
            "train Loss: 0.3848 Acc: 0.8605\n",
            "val Loss: 0.2397 Acc: 0.9192\n",
            "\n",
            "Epoch 7/24\n",
            "----------\n",
            "train Loss: 0.3021 Acc: 0.8920\n",
            "val Loss: 0.2415 Acc: 0.9192\n",
            "\n",
            "Epoch 8/24\n",
            "----------\n",
            "train Loss: 0.2702 Acc: 0.9027\n",
            "val Loss: 0.2536 Acc: 0.9221\n",
            "\n",
            "Epoch 9/24\n",
            "----------\n",
            "train Loss: 0.2600 Acc: 0.9052\n",
            "val Loss: 0.2414 Acc: 0.9210\n",
            "\n",
            "Epoch 10/24\n",
            "----------\n",
            "train Loss: 0.2566 Acc: 0.9069\n",
            "val Loss: 0.2282 Acc: 0.9263\n",
            "\n",
            "Epoch 11/24\n",
            "----------\n",
            "train Loss: 0.2498 Acc: 0.9097\n",
            "val Loss: 0.2349 Acc: 0.9246\n",
            "\n",
            "Epoch 12/24\n",
            "----------\n",
            "train Loss: 0.2418 Acc: 0.9122\n",
            "val Loss: 0.2418 Acc: 0.9192\n",
            "\n",
            "Epoch 13/24\n",
            "----------\n",
            "train Loss: 0.2498 Acc: 0.9125\n",
            "val Loss: 0.2404 Acc: 0.9217\n",
            "\n",
            "Epoch 14/24\n",
            "----------\n",
            "train Loss: 0.2413 Acc: 0.9140\n",
            "val Loss: 0.2342 Acc: 0.9270\n",
            "\n",
            "Epoch 15/24\n",
            "----------\n",
            "train Loss: 0.2451 Acc: 0.9114\n",
            "val Loss: 0.2368 Acc: 0.9231\n",
            "\n",
            "Epoch 16/24\n",
            "----------\n",
            "train Loss: 0.2255 Acc: 0.9186\n",
            "val Loss: 0.2316 Acc: 0.9253\n",
            "\n",
            "Epoch 17/24\n",
            "----------\n",
            "train Loss: 0.2332 Acc: 0.9160\n",
            "val Loss: 0.2340 Acc: 0.9274\n",
            "\n",
            "Epoch 18/24\n",
            "----------\n",
            "train Loss: 0.2283 Acc: 0.9187\n",
            "val Loss: 0.2283 Acc: 0.9256\n",
            "\n",
            "Epoch 19/24\n",
            "----------\n",
            "train Loss: 0.2236 Acc: 0.9187\n",
            "val Loss: 0.2486 Acc: 0.9231\n",
            "\n",
            "Epoch 20/24\n",
            "----------\n",
            "train Loss: 0.2201 Acc: 0.9211\n",
            "val Loss: 0.2357 Acc: 0.9278\n",
            "\n",
            "Epoch 21/24\n",
            "----------\n",
            "train Loss: 0.2313 Acc: 0.9150\n",
            "val Loss: 0.2367 Acc: 0.9263\n",
            "\n",
            "Epoch 22/24\n",
            "----------\n",
            "train Loss: 0.2221 Acc: 0.9220\n",
            "val Loss: 0.2421 Acc: 0.9231\n",
            "\n",
            "Epoch 23/24\n",
            "----------\n",
            "train Loss: 0.2280 Acc: 0.9179\n",
            "val Loss: 0.2306 Acc: 0.9288\n",
            "\n",
            "Epoch 24/24\n",
            "----------\n",
            "train Loss: 0.2303 Acc: 0.9158\n",
            "val Loss: 0.2306 Acc: 0.9292\n",
            "\n",
            "Training complete in 68m 58s\n",
            "Best val Acc: 0.929181\n"
          ]
        },
        {
          "output_type": "display_data",
          "data": {
            "text/plain": [
              "<Figure size 432x288 with 1 Axes>"
            ],
            "image/png": "[encoded data removed]"
          },
          "metadata": {
            "needs_background": "light"
          }
        },
        {
          "output_type": "display_data",
          "data": {
            "text/plain": [
              "<Figure size 432x288 with 1 Axes>"
            ],
            "image/png": "[encoded data removed]"
          },
          "metadata": {
            "needs_background": "light"
          }
        },
        {
          "output_type": "display_data",
          "data": {
            "text/plain": [
              "<Figure size 432x288 with 1 Axes>"
            ],
            "image/png": "[encoded data removed]"
          },
          "metadata": {
            "needs_background": "light"
          }
        },
        {
          "output_type": "display_data",
          "data": {
            "text/plain": [
              "<Figure size 432x288 with 1 Axes>"
            ],
            "image/png": "[encoded data removed]"
          },
          "metadata": {
            "needs_background": "light"
          }
        },
        {
          "output_type": "display_data",
          "data": {
            "text/plain": [
              "<Figure size 432x288 with 1 Axes>"
            ],
            "image/png": "[encoded data removed]"
          },
          "metadata": {
            "needs_background": "light"
          }
        },
        {
          "output_type": "display_data",
          "data": {
            "text/plain": [
              "<Figure size 432x288 with 1 Axes>"
            ],
            "image/png": "[encoded data removed]"
          },
          "metadata": {
            "needs_background": "light"
          }
        }
      ]
    },
    {
      "cell_type": "code",
      "source": [
        "torch.save(model_ft.state_dict(), \"resnet50_model.pt\")"
      ],
      "metadata": {
        "id": "IPkHiwyxKUMO"
      },
      "execution_count": null,
      "outputs": []
    },
    {
      "cell_type": "code",
      "source": [
        "import pandas as pd\n",
        "import numpy as np\n",
        "from torch import Tensor\n",
        "\n",
        "!rmdir /content/drive/MyDrive/test/.ipynb_checkpoints\n",
        "dir = \"/content/drive/MyDrive/test\"\n",
        "image_set = datasets.ImageFolder(os.path.join(dir),data_transforms[\"val\"])\n",
        "print(image_set)\n",
        "loader = torch.utils.data.DataLoader(image_set, batch_size=8, shuffle=False)\n",
        "correct = 0\n",
        "samples = 0\n",
        "values = np.array([])\n",
        "names =np.array([])\n",
        "for idx, (images, labels) in enumerate(loader):\n",
        "    images = images.to(device=device)\n",
        "    labels = labels.to(device=device)\n",
        "    outputs = model_ft(images)\n",
        "    _, preds = outputs.max(1)\n",
        "    values =  np.r_[values,np.array(Tensor.cpu(preds))]\n",
        "for i in range(3050):\n",
        "    names = np.r_[names,np.array(loader.dataset.samples[i][0][48:])]"
      ],
      "metadata": {
        "colab": {
          "base_uri": "https://localhost:8080/"
        },
        "id": "cm7TQtfzKeIy",
        "outputId": "cef54d53-ebb9-48ed-d983-cbb690e3ff76"
      },
      "execution_count": null,
      "outputs": [
        {
          "output_type": "stream",
          "name": "stdout",
          "text": [
            "rmdir: failed to remove '/content/drive/MyDrive/test/.ipynb_checkpoints': No such file or directory\n",
            "Dataset ImageFolder\n",
            "    Number of datapoints: 3050\n",
            "    Root location: /content/drive/MyDrive/test\n",
            "    StandardTransform\n",
            "Transform: Compose(\n",
            "               Resize(size=256, interpolation=bilinear, max_size=None, antialias=None)\n",
            "               CenterCrop(size=(224, 224))\n",
            "               ToTensor()\n",
            "           )\n"
          ]
        }
      ]
    },
    {
      "cell_type": "code",
      "source": [
        "fil = np.c_[names[:,np.newaxis],values[:,np.newaxis]]\n",
        "frame = pd.DataFrame(fil)\n",
        "frame.style.hide_index()\n",
        "frame.to_csv(\"preds2.csv\")"
      ],
      "metadata": {
        "id": "Fcn23EYzKinI"
      },
      "execution_count": null,
      "outputs": []
    }
  ]
}